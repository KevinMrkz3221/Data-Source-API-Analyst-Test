{
  "cells": [
    {
      "cell_type": "code",
      "execution_count": 17,
      "metadata": {
        "colab": {
          "base_uri": "https://localhost:8080/"
        },
        "id": "8UXX9eEgevrN",
        "outputId": "3be1c3a0-4c17-44d0-c1e7-dee2495f9ff7"
      },
      "outputs": [
        {
          "name": "stdout",
          "output_type": "stream",
          "text": [
            "Requirement already satisfied: requests in /usr/local/lib/python3.11/dist-packages (2.32.3)\n",
            "Requirement already satisfied: charset-normalizer<4,>=2 in /usr/local/lib/python3.11/dist-packages (from requests) (3.4.2)\n",
            "Requirement already satisfied: idna<4,>=2.5 in /usr/local/lib/python3.11/dist-packages (from requests) (3.10)\n",
            "Requirement already satisfied: urllib3<3,>=1.21.1 in /usr/local/lib/python3.11/dist-packages (from requests) (2.4.0)\n",
            "Requirement already satisfied: certifi>=2017.4.17 in /usr/local/lib/python3.11/dist-packages (from requests) (2025.6.15)\n",
            "Requirement already satisfied: python-dotenv in /usr/local/lib/python3.11/dist-packages (1.1.0)\n"
          ]
        }
      ],
      "source": [
        "!pip install requests\n",
        "!pip install python-dotenv"
      ]
    },
    {
      "cell_type": "code",
      "execution_count": 22,
      "metadata": {
        "colab": {
          "base_uri": "https://localhost:8080/"
        },
        "id": "N-nMaJhbfFLG",
        "outputId": "4c93f0cd-2cec-4c5a-a2f0-b4107b7baf55"
      },
      "outputs": [
        {
          "data": {
            "text/plain": [
              "True"
            ]
          },
          "execution_count": 22,
          "metadata": {},
          "output_type": "execute_result"
        }
      ],
      "source": [
        "import requests\n",
        "import os\n",
        "\n",
        "from dotenv import load_dotenv\n",
        "load_dotenv()"
      ]
    },
    {
      "cell_type": "code",
      "execution_count": null,
      "metadata": {
        "id": "cykPmupsfVA1"
      },
      "outputs": [],
      "source": [
        "GH_KEY = os.getenv('GH_KEY')\n",
        "GH_ROOT = os.getenv('GH_ROOT')\n",
        "GH_ACCEPT = os.getenv('GH_ACCEPT')"
      ]
    },
    {
      "cell_type": "markdown",
      "metadata": {
        "id": "Q0ClWVQIe2B1"
      },
      "source": [
        "# Public repositories\n",
        "\n",
        "**Endpoint**: https://api.gihub.com/repositories\n",
        "\n",
        "**Method**  : **GET**\n",
        "\n",
        "**Headers**\n",
        "- Authorization: Bearer\n",
        "- Accept       : application/vnd.github+json (optional)\n",
        "\n",
        "| Status Code | Description |\n",
        "|-----------|-----------|\n",
        "| **200 **   | OK    |\n",
        "| **304**    | Not Modified    |\n",
        "| **422**    | Validation failed, or the endpoint has been spammed    |\n",
        "\n"
      ]
    },
    {
      "cell_type": "code",
      "execution_count": null,
      "metadata": {
        "colab": {
          "base_uri": "https://localhost:8080/"
        },
        "id": "BzzJmACPezae",
        "outputId": "be2ad2ea-1708-4eb1-a91f-2e3e74d7c073"
      },
      "outputs": [
        {
          "name": "stdout",
          "output_type": "stream",
          "text": [
            "\n",
            "Status Code: 422\n",
            "Records:     3\n",
            "Content:     b'{\"message\":\"The since parameter must be an integer.\",\"documentation_url\":\"https://docs.github.com/rest/repos/repos#list-public-repositories\",\"status\":\"422\"}'\n",
            "\n"
          ]
        }
      ],
      "source": [
        "headers = {\n",
        "    'Authorization': f'Bearer {GH_KEY}',\n",
        "    'Accept': GH_ACCEPT\n",
        "}\n",
        "params = {\n",
        "    'since': 1000\n",
        "}\n",
        "response = requests.request('GET', f'{GH_ROOT}/repositories?since=1000000', headers=headers, params=params)\n",
        "# Gets 100 repositories\n",
        "print(f\"\"\"\n",
        "Status Code: {response.status_code}\n",
        "Records:     {len(response.json())}\n",
        "Content:     {response.content}\n",
        "\"\"\")"
      ]
    },
    {
      "cell_type": "markdown",
      "metadata": {
        "id": "g7MNdizRku-F"
      },
      "source": [
        "# Commits\n",
        "\n",
        "**Endpoint**: https://api.gihub.com/repos/OWNER/REPO/commits\n",
        "\n",
        "**Method**  : **GET**\n",
        "\n",
        "**Headers**\n",
        "- Authorization: Bearer\n",
        "- Accept       : application/vnd.github+json (optional)\n",
        "\n",
        "**Path Parameters**\n",
        "- OWNER\n",
        "- REPO\n",
        "\n",
        "| Status Code | Description |\n",
        "|-----------|-----------|\n",
        "| **200 **   | OK    |\n",
        "| **400**    | Not Modified    |\n",
        "| **404**    | NOT FOUND    |\n",
        "| **409**    | Conflict    |\n",
        "| **500**    | Internal error / Server Error   |"
      ]
    },
    {
      "cell_type": "code",
      "execution_count": null,
      "metadata": {
        "colab": {
          "base_uri": "https://localhost:8080/"
        },
        "id": "qIhqXzBdkuuG",
        "outputId": "02328b51-8a8f-42a5-974a-7df0d5a39bcd"
      },
      "outputs": [
        {
          "name": "stdout",
          "output_type": "stream",
          "text": [
            "\n",
            "Status Code: 200\n",
            "Records:     1\n",
            "Content:     b'[{\"sha\":\"d4e38340606ee14335b2293a9bbd96efe8b0f7d9\",\"node_id\":\"C_kwDOPAKgedoAKGQ0ZTM4MzQwNjA2ZWUxNDMzNWIyMjkzYTliYmQ5NmVmZThiMGY3ZDk\",\"commit\":{\"author\":{\"name\":\"Kevin Andres Rosales Marquez\",\"email\":\"kevin.rosales98@hotmail.com\",\"date\":\"2025-06-24T02:13:07Z\"},\"committer\":{\"name\":\"Kevin Andres Rosales Marquez\",\"email\":\"kevin.rosales98@hotmail.com\",\"date\":\"2025-06-24T02:13:07Z\"},\"message\":\"first commit\",\"tree\":{\"sha\":\"3088daf39cb2e870b8ff65d524cbb244c16f7d74\",\"url\":\"https://api.github.com/repos/KevinMrkz3221/Data-Source-API-Analyst-Test/git/trees/3088daf39cb2e870b8ff65d524cbb244c16f7d74\"},\"url\":\"https://api.github.com/repos/KevinMrkz3221/Data-Source-API-Analyst-Test/git/commits/d4e38340606ee14335b2293a9bbd96efe8b0f7d9\",\"comment_count\":0,\"verification\":{\"verified\":false,\"reason\":\"unsigned\",\"signature\":null,\"payload\":null,\"verified_at\":null}},\"url\":\"https://api.github.com/repos/KevinMrkz3221/Data-Source-API-Analyst-Test/commits/d4e38340606ee14335b2293a9bbd96efe8b0f7d9\",\"html_url\":\"https://github.com/KevinMrkz3221/Data-Source-API-Analyst-Test/commit/d4e38340606ee14335b2293a9bbd96efe8b0f7d9\",\"comments_url\":\"https://api.github.com/repos/KevinMrkz3221/Data-Source-API-Analyst-Test/commits/d4e38340606ee14335b2293a9bbd96efe8b0f7d9/comments\",\"author\":{\"login\":\"KevinMrkz3221\",\"id\":71106351,\"node_id\":\"MDQ6VXNlcjcxMTA2MzUx\",\"avatar_url\":\"https://avatars.githubusercontent.com/u/71106351?v=4\",\"gravatar_id\":\"\",\"url\":\"https://api.github.com/users/KevinMrkz3221\",\"html_url\":\"https://github.com/KevinMrkz3221\",\"followers_url\":\"https://api.github.com/users/KevinMrkz3221/followers\",\"following_url\":\"https://api.github.com/users/KevinMrkz3221/following{/other_user}\",\"gists_url\":\"https://api.github.com/users/KevinMrkz3221/gists{/gist_id}\",\"starred_url\":\"https://api.github.com/users/KevinMrkz3221/starred{/owner}{/repo}\",\"subscriptions_url\":\"https://api.github.com/users/KevinMrkz3221/subscriptions\",\"organizations_url\":\"https://api.github.com/users/KevinMrkz3221/orgs\",\"repos_url\":\"https://api.github.com/users/KevinMrkz3221/repos\",\"events_url\":\"https://api.github.com/users/KevinMrkz3221/events{/privacy}\",\"received_events_url\":\"https://api.github.com/users/KevinMrkz3221/received_events\",\"type\":\"User\",\"user_view_type\":\"public\",\"site_admin\":false},\"committer\":{\"login\":\"KevinMrkz3221\",\"id\":71106351,\"node_id\":\"MDQ6VXNlcjcxMTA2MzUx\",\"avatar_url\":\"https://avatars.githubusercontent.com/u/71106351?v=4\",\"gravatar_id\":\"\",\"url\":\"https://api.github.com/users/KevinMrkz3221\",\"html_url\":\"https://github.com/KevinMrkz3221\",\"followers_url\":\"https://api.github.com/users/KevinMrkz3221/followers\",\"following_url\":\"https://api.github.com/users/KevinMrkz3221/following{/other_user}\",\"gists_url\":\"https://api.github.com/users/KevinMrkz3221/gists{/gist_id}\",\"starred_url\":\"https://api.github.com/users/KevinMrkz3221/starred{/owner}{/repo}\",\"subscriptions_url\":\"https://api.github.com/users/KevinMrkz3221/subscriptions\",\"organizations_url\":\"https://api.github.com/users/KevinMrkz3221/orgs\",\"repos_url\":\"https://api.github.com/users/KevinMrkz3221/repos\",\"events_url\":\"https://api.github.com/users/KevinMrkz3221/events{/privacy}\",\"received_events_url\":\"https://api.github.com/users/KevinMrkz3221/received_events\",\"type\":\"User\",\"user_view_type\":\"public\",\"site_admin\":false},\"parents\":[]}]'\n",
            "\n"
          ]
        }
      ],
      "source": [
        "headers = {\n",
        "    'Authorization': f'Bearer {GH_KEY}',\n",
        "    'Accept': GH_ACCEPT\n",
        "}\n",
        "\n",
        "response = requests.request('GET', f'{GH_ROOT}/repos/KevinMrkz3221/Data-Source-API-Analyst-Test/commits', headers=headers)\n",
        "\n",
        "print(f\"\"\"\n",
        "Status Code: {response.status_code}\n",
        "Records:     {len(response.json())}\n",
        "Content:     {response.content}\n",
        "\"\"\")"
      ]
    },
    {
      "cell_type": "markdown",
      "metadata": {
        "id": "-1jp7slTogtz"
      },
      "source": [
        "# Contents\n",
        "\n",
        "**Endpoint**: https://api.gihub.com/repos/OWNER/REPO/contents/PATH\n",
        "\n",
        "**Method**  : **GET**\n",
        "\n",
        "**Headers**\n",
        "- Authorization: Bearer\n",
        "- Accept       : application/vnd.github+json (optional)\n",
        "\n",
        "**Path Parameters**\n",
        "- OWNER\n",
        "- REPO\n",
        "- PATH -> Optional\n",
        "\n",
        "| Status Code | Description |\n",
        "|-----------|-----------|\n",
        "| **200**   | OK    |\n",
        "| **302**    | Found   |\n",
        "| **304**    | Not modified    |\n",
        "| **403**    | Forbidden    |\n",
        "| **404**    | Not Found   |"
      ]
    },
    {
      "cell_type": "code",
      "execution_count": null,
      "metadata": {
        "colab": {
          "base_uri": "https://localhost:8080/"
        },
        "id": "83tZOnSQjoAG",
        "outputId": "71ec79fd-4569-4927-e4e3-3cfc3c41fd2f"
      },
      "outputs": [
        {
          "name": "stdout",
          "output_type": "stream",
          "text": [
            "\n",
            "Status Code: 404\n",
            "Content:     b'{\"message\":\"Not Found\",\"documentation_url\":\"https://docs.github.com/rest\",\"status\":\"404\"}'\n",
            "\n"
          ]
        }
      ],
      "source": [
        "headers = {\n",
        "    'Authorization': f'Bearer {GH_KEY}',\n",
        "    'Accept': GH_ACCEPT\n",
        "}\n",
        "\n",
        "response = requests.request('GET', f'{GH_ROOT}/repos/KevinMrkz3221/Data-Source-API-Analyst-Test/content', headers=headers)\n",
        "\n",
        "print(f\"\"\"\n",
        "Status Code: {response.status_code}\n",
        "Content:     {response.content}\n",
        "\"\"\")"
      ]
    },
    {
      "cell_type": "code",
      "execution_count": null,
      "metadata": {
        "id": "M8nb6yVlqDd0"
      },
      "outputs": [],
      "source": []
    },
    {
      "cell_type": "markdown",
      "metadata": {
        "id": "ktjgWe9YznUZ"
      },
      "source": [
        "# Extra"
      ]
    },
    {
      "cell_type": "code",
      "execution_count": 33,
      "metadata": {
        "id": "i3FqQ3tNzok9"
      },
      "outputs": [],
      "source": [
        "import time\n",
        "\n",
        "def handle_rate_limit(response):\n",
        "    if response.status_code == 403 and 'X-RateLimit-Remaining' in response.headers:\n",
        "        remaining = int(response.headers['X-RateLimit-Remaining'])\n",
        "        if remaining == 0:\n",
        "            reset_time = int(response.headers['X-RateLimit-Reset'])\n",
        "            sleep_time = max(reset_time - int(time.time()), 0) + 1\n",
        "            print(f\"Rate limit reached. Sleeping for {sleep_time} seconds...\")\n",
        "            time.sleep(sleep_time)\n",
        "            return True\n",
        "    return False"
      ]
    },
    {
      "cell_type": "code",
      "execution_count": 37,
      "metadata": {
        "id": "uDR14RgozpTJ"
      },
      "outputs": [],
      "source": [
        "# initial id from you want to start\n",
        "# iterations: Number of times you want to made the request incrementing 100 by 100\n",
        "def pagination_repositories(url, headers, params=None, initial=100,iterations=3):\n",
        "    results = []\n",
        "    page = 1\n",
        "    while page <= iterations:\n",
        "        if params:\n",
        "            params['since'] = initial\n",
        "        else:\n",
        "            params = {'since': initial}\n",
        "        response = requests.get(url, headers=headers, params=params)\n",
        "        if handle_rate_limit(response):\n",
        "            continue\n",
        "        if response.status_code != 200:\n",
        "            print(f\"Error: {response.status_code}\")\n",
        "            break\n",
        "        data = response.json()\n",
        "        if not data:\n",
        "            break\n",
        "        results.extend(data)\n",
        "        print(f\"Number of repositories: {len(data)} records\")\n",
        "        print(f\"First repository of page \\n {data[0]}\")\n",
        "\n",
        "        page += 1\n",
        "        initial += 100\n",
        "    return results"
      ]
    },
    {
      "cell_type": "code",
      "execution_count": 38,
      "metadata": {
        "colab": {
          "base_uri": "https://localhost:8080/"
        },
        "id": "Wi3T3kVT0Z2K",
        "outputId": "95914e44-20ae-4974-dd4e-750b8fdae6fc"
      },
      "outputs": [
        {
          "name": "stdout",
          "output_type": "stream",
          "text": [
            "Number of repositories: 100 records\n",
            "First repository of page \n",
            " {'id': 102, 'node_id': 'MDEwOlJlcG9zaXRvcnkxMDI=', 'name': 'gsa-prototype', 'full_name': 'jnewland/gsa-prototype', 'private': False, 'owner': {'login': 'jnewland', 'id': 47, 'node_id': 'MDQ6VXNlcjQ3', 'avatar_url': 'https://avatars.githubusercontent.com/u/47?v=4', 'gravatar_id': '', 'url': 'https://api.github.com/users/jnewland', 'html_url': 'https://github.com/jnewland', 'followers_url': 'https://api.github.com/users/jnewland/followers', 'following_url': 'https://api.github.com/users/jnewland/following{/other_user}', 'gists_url': 'https://api.github.com/users/jnewland/gists{/gist_id}', 'starred_url': 'https://api.github.com/users/jnewland/starred{/owner}{/repo}', 'subscriptions_url': 'https://api.github.com/users/jnewland/subscriptions', 'organizations_url': 'https://api.github.com/users/jnewland/orgs', 'repos_url': 'https://api.github.com/users/jnewland/repos', 'events_url': 'https://api.github.com/users/jnewland/events{/privacy}', 'received_events_url': 'https://api.github.com/users/jnewland/received_events', 'type': 'User', 'user_view_type': 'public', 'site_admin': False}, 'html_url': 'https://github.com/jnewland/gsa-prototype', 'description': 'Prototype/Javascript wrapper for the Google Search Appliance Search Protocol. Fancy cross-domain JSON support included.', 'fork': False, 'url': 'https://api.github.com/repos/jnewland/gsa-prototype', 'forks_url': 'https://api.github.com/repos/jnewland/gsa-prototype/forks', 'keys_url': 'https://api.github.com/repos/jnewland/gsa-prototype/keys{/key_id}', 'collaborators_url': 'https://api.github.com/repos/jnewland/gsa-prototype/collaborators{/collaborator}', 'teams_url': 'https://api.github.com/repos/jnewland/gsa-prototype/teams', 'hooks_url': 'https://api.github.com/repos/jnewland/gsa-prototype/hooks', 'issue_events_url': 'https://api.github.com/repos/jnewland/gsa-prototype/issues/events{/number}', 'events_url': 'https://api.github.com/repos/jnewland/gsa-prototype/events', 'assignees_url': 'https://api.github.com/repos/jnewland/gsa-prototype/assignees{/user}', 'branches_url': 'https://api.github.com/repos/jnewland/gsa-prototype/branches{/branch}', 'tags_url': 'https://api.github.com/repos/jnewland/gsa-prototype/tags', 'blobs_url': 'https://api.github.com/repos/jnewland/gsa-prototype/git/blobs{/sha}', 'git_tags_url': 'https://api.github.com/repos/jnewland/gsa-prototype/git/tags{/sha}', 'git_refs_url': 'https://api.github.com/repos/jnewland/gsa-prototype/git/refs{/sha}', 'trees_url': 'https://api.github.com/repos/jnewland/gsa-prototype/git/trees{/sha}', 'statuses_url': 'https://api.github.com/repos/jnewland/gsa-prototype/statuses/{sha}', 'languages_url': 'https://api.github.com/repos/jnewland/gsa-prototype/languages', 'stargazers_url': 'https://api.github.com/repos/jnewland/gsa-prototype/stargazers', 'contributors_url': 'https://api.github.com/repos/jnewland/gsa-prototype/contributors', 'subscribers_url': 'https://api.github.com/repos/jnewland/gsa-prototype/subscribers', 'subscription_url': 'https://api.github.com/repos/jnewland/gsa-prototype/subscription', 'commits_url': 'https://api.github.com/repos/jnewland/gsa-prototype/commits{/sha}', 'git_commits_url': 'https://api.github.com/repos/jnewland/gsa-prototype/git/commits{/sha}', 'comments_url': 'https://api.github.com/repos/jnewland/gsa-prototype/comments{/number}', 'issue_comment_url': 'https://api.github.com/repos/jnewland/gsa-prototype/issues/comments{/number}', 'contents_url': 'https://api.github.com/repos/jnewland/gsa-prototype/contents/{+path}', 'compare_url': 'https://api.github.com/repos/jnewland/gsa-prototype/compare/{base}...{head}', 'merges_url': 'https://api.github.com/repos/jnewland/gsa-prototype/merges', 'archive_url': 'https://api.github.com/repos/jnewland/gsa-prototype/{archive_format}{/ref}', 'downloads_url': 'https://api.github.com/repos/jnewland/gsa-prototype/downloads', 'issues_url': 'https://api.github.com/repos/jnewland/gsa-prototype/issues{/number}', 'pulls_url': 'https://api.github.com/repos/jnewland/gsa-prototype/pulls{/number}', 'milestones_url': 'https://api.github.com/repos/jnewland/gsa-prototype/milestones{/number}', 'notifications_url': 'https://api.github.com/repos/jnewland/gsa-prototype/notifications{?since,all,participating}', 'labels_url': 'https://api.github.com/repos/jnewland/gsa-prototype/labels{/name}', 'releases_url': 'https://api.github.com/repos/jnewland/gsa-prototype/releases{/id}', 'deployments_url': 'https://api.github.com/repos/jnewland/gsa-prototype/deployments'}\n",
            "Number of repositories: 100 records\n",
            "First repository of page \n",
            " {'id': 203, 'node_id': 'MDEwOlJlcG9zaXRvcnkyMDM=', 'name': 'merblogger', 'full_name': 'wayneeseguin/merblogger', 'private': False, 'owner': {'login': 'wayneeseguin', 'id': 18, 'node_id': 'MDQ6VXNlcjE4', 'avatar_url': 'https://avatars.githubusercontent.com/u/18?v=4', 'gravatar_id': '', 'url': 'https://api.github.com/users/wayneeseguin', 'html_url': 'https://github.com/wayneeseguin', 'followers_url': 'https://api.github.com/users/wayneeseguin/followers', 'following_url': 'https://api.github.com/users/wayneeseguin/following{/other_user}', 'gists_url': 'https://api.github.com/users/wayneeseguin/gists{/gist_id}', 'starred_url': 'https://api.github.com/users/wayneeseguin/starred{/owner}{/repo}', 'subscriptions_url': 'https://api.github.com/users/wayneeseguin/subscriptions', 'organizations_url': 'https://api.github.com/users/wayneeseguin/orgs', 'repos_url': 'https://api.github.com/users/wayneeseguin/repos', 'events_url': 'https://api.github.com/users/wayneeseguin/events{/privacy}', 'received_events_url': 'https://api.github.com/users/wayneeseguin/received_events', 'type': 'User', 'user_view_type': 'public', 'site_admin': False}, 'html_url': 'https://github.com/wayneeseguin/merblogger', 'description': 'A Merb Blogging &amp; Publishing Platform using Merb, DataMapper, haml and jQuery.', 'fork': False, 'url': 'https://api.github.com/repos/wayneeseguin/merblogger', 'forks_url': 'https://api.github.com/repos/wayneeseguin/merblogger/forks', 'keys_url': 'https://api.github.com/repos/wayneeseguin/merblogger/keys{/key_id}', 'collaborators_url': 'https://api.github.com/repos/wayneeseguin/merblogger/collaborators{/collaborator}', 'teams_url': 'https://api.github.com/repos/wayneeseguin/merblogger/teams', 'hooks_url': 'https://api.github.com/repos/wayneeseguin/merblogger/hooks', 'issue_events_url': 'https://api.github.com/repos/wayneeseguin/merblogger/issues/events{/number}', 'events_url': 'https://api.github.com/repos/wayneeseguin/merblogger/events', 'assignees_url': 'https://api.github.com/repos/wayneeseguin/merblogger/assignees{/user}', 'branches_url': 'https://api.github.com/repos/wayneeseguin/merblogger/branches{/branch}', 'tags_url': 'https://api.github.com/repos/wayneeseguin/merblogger/tags', 'blobs_url': 'https://api.github.com/repos/wayneeseguin/merblogger/git/blobs{/sha}', 'git_tags_url': 'https://api.github.com/repos/wayneeseguin/merblogger/git/tags{/sha}', 'git_refs_url': 'https://api.github.com/repos/wayneeseguin/merblogger/git/refs{/sha}', 'trees_url': 'https://api.github.com/repos/wayneeseguin/merblogger/git/trees{/sha}', 'statuses_url': 'https://api.github.com/repos/wayneeseguin/merblogger/statuses/{sha}', 'languages_url': 'https://api.github.com/repos/wayneeseguin/merblogger/languages', 'stargazers_url': 'https://api.github.com/repos/wayneeseguin/merblogger/stargazers', 'contributors_url': 'https://api.github.com/repos/wayneeseguin/merblogger/contributors', 'subscribers_url': 'https://api.github.com/repos/wayneeseguin/merblogger/subscribers', 'subscription_url': 'https://api.github.com/repos/wayneeseguin/merblogger/subscription', 'commits_url': 'https://api.github.com/repos/wayneeseguin/merblogger/commits{/sha}', 'git_commits_url': 'https://api.github.com/repos/wayneeseguin/merblogger/git/commits{/sha}', 'comments_url': 'https://api.github.com/repos/wayneeseguin/merblogger/comments{/number}', 'issue_comment_url': 'https://api.github.com/repos/wayneeseguin/merblogger/issues/comments{/number}', 'contents_url': 'https://api.github.com/repos/wayneeseguin/merblogger/contents/{+path}', 'compare_url': 'https://api.github.com/repos/wayneeseguin/merblogger/compare/{base}...{head}', 'merges_url': 'https://api.github.com/repos/wayneeseguin/merblogger/merges', 'archive_url': 'https://api.github.com/repos/wayneeseguin/merblogger/{archive_format}{/ref}', 'downloads_url': 'https://api.github.com/repos/wayneeseguin/merblogger/downloads', 'issues_url': 'https://api.github.com/repos/wayneeseguin/merblogger/issues{/number}', 'pulls_url': 'https://api.github.com/repos/wayneeseguin/merblogger/pulls{/number}', 'milestones_url': 'https://api.github.com/repos/wayneeseguin/merblogger/milestones{/number}', 'notifications_url': 'https://api.github.com/repos/wayneeseguin/merblogger/notifications{?since,all,participating}', 'labels_url': 'https://api.github.com/repos/wayneeseguin/merblogger/labels{/name}', 'releases_url': 'https://api.github.com/repos/wayneeseguin/merblogger/releases{/id}', 'deployments_url': 'https://api.github.com/repos/wayneeseguin/merblogger/deployments'}\n",
            "Number of repositories: 100 records\n",
            "First repository of page \n",
            " {'id': 305, 'node_id': 'MDEwOlJlcG9zaXRvcnkzMDU=', 'name': 'god', 'full_name': 'kevinclark/god', 'private': False, 'owner': {'login': 'kevinclark', 'id': 20, 'node_id': 'MDQ6VXNlcjIw', 'avatar_url': 'https://avatars.githubusercontent.com/u/20?v=4', 'gravatar_id': '', 'url': 'https://api.github.com/users/kevinclark', 'html_url': 'https://github.com/kevinclark', 'followers_url': 'https://api.github.com/users/kevinclark/followers', 'following_url': 'https://api.github.com/users/kevinclark/following{/other_user}', 'gists_url': 'https://api.github.com/users/kevinclark/gists{/gist_id}', 'starred_url': 'https://api.github.com/users/kevinclark/starred{/owner}{/repo}', 'subscriptions_url': 'https://api.github.com/users/kevinclark/subscriptions', 'organizations_url': 'https://api.github.com/users/kevinclark/orgs', 'repos_url': 'https://api.github.com/users/kevinclark/repos', 'events_url': 'https://api.github.com/users/kevinclark/events{/privacy}', 'received_events_url': 'https://api.github.com/users/kevinclark/received_events', 'type': 'User', 'user_view_type': 'public', 'site_admin': False}, 'html_url': 'https://github.com/kevinclark/god', 'description': 'Ruby process monitor', 'fork': True, 'url': 'https://api.github.com/repos/kevinclark/god', 'forks_url': 'https://api.github.com/repos/kevinclark/god/forks', 'keys_url': 'https://api.github.com/repos/kevinclark/god/keys{/key_id}', 'collaborators_url': 'https://api.github.com/repos/kevinclark/god/collaborators{/collaborator}', 'teams_url': 'https://api.github.com/repos/kevinclark/god/teams', 'hooks_url': 'https://api.github.com/repos/kevinclark/god/hooks', 'issue_events_url': 'https://api.github.com/repos/kevinclark/god/issues/events{/number}', 'events_url': 'https://api.github.com/repos/kevinclark/god/events', 'assignees_url': 'https://api.github.com/repos/kevinclark/god/assignees{/user}', 'branches_url': 'https://api.github.com/repos/kevinclark/god/branches{/branch}', 'tags_url': 'https://api.github.com/repos/kevinclark/god/tags', 'blobs_url': 'https://api.github.com/repos/kevinclark/god/git/blobs{/sha}', 'git_tags_url': 'https://api.github.com/repos/kevinclark/god/git/tags{/sha}', 'git_refs_url': 'https://api.github.com/repos/kevinclark/god/git/refs{/sha}', 'trees_url': 'https://api.github.com/repos/kevinclark/god/git/trees{/sha}', 'statuses_url': 'https://api.github.com/repos/kevinclark/god/statuses/{sha}', 'languages_url': 'https://api.github.com/repos/kevinclark/god/languages', 'stargazers_url': 'https://api.github.com/repos/kevinclark/god/stargazers', 'contributors_url': 'https://api.github.com/repos/kevinclark/god/contributors', 'subscribers_url': 'https://api.github.com/repos/kevinclark/god/subscribers', 'subscription_url': 'https://api.github.com/repos/kevinclark/god/subscription', 'commits_url': 'https://api.github.com/repos/kevinclark/god/commits{/sha}', 'git_commits_url': 'https://api.github.com/repos/kevinclark/god/git/commits{/sha}', 'comments_url': 'https://api.github.com/repos/kevinclark/god/comments{/number}', 'issue_comment_url': 'https://api.github.com/repos/kevinclark/god/issues/comments{/number}', 'contents_url': 'https://api.github.com/repos/kevinclark/god/contents/{+path}', 'compare_url': 'https://api.github.com/repos/kevinclark/god/compare/{base}...{head}', 'merges_url': 'https://api.github.com/repos/kevinclark/god/merges', 'archive_url': 'https://api.github.com/repos/kevinclark/god/{archive_format}{/ref}', 'downloads_url': 'https://api.github.com/repos/kevinclark/god/downloads', 'issues_url': 'https://api.github.com/repos/kevinclark/god/issues{/number}', 'pulls_url': 'https://api.github.com/repos/kevinclark/god/pulls{/number}', 'milestones_url': 'https://api.github.com/repos/kevinclark/god/milestones{/number}', 'notifications_url': 'https://api.github.com/repos/kevinclark/god/notifications{?since,all,participating}', 'labels_url': 'https://api.github.com/repos/kevinclark/god/labels{/name}', 'releases_url': 'https://api.github.com/repos/kevinclark/god/releases{/id}', 'deployments_url': 'https://api.github.com/repos/kevinclark/god/deployments'}\n",
            "Total commits extracted: 300\n",
            "Sample commit: {'id': 102, 'node_id': 'MDEwOlJlcG9zaXRvcnkxMDI=', 'name': 'gsa-prototype', 'full_name': 'jnewland/gsa-prototype', 'private': False, 'owner': {'login': 'jnewland', 'id': 47, 'node_id': 'MDQ6VXNlcjQ3', 'avatar_url': 'https://avatars.githubusercontent.com/u/47?v=4', 'gravatar_id': '', 'url': 'https://api.github.com/users/jnewland', 'html_url': 'https://github.com/jnewland', 'followers_url': 'https://api.github.com/users/jnewland/followers', 'following_url': 'https://api.github.com/users/jnewland/following{/other_user}', 'gists_url': 'https://api.github.com/users/jnewland/gists{/gist_id}', 'starred_url': 'https://api.github.com/users/jnewland/starred{/owner}{/repo}', 'subscriptions_url': 'https://api.github.com/users/jnewland/subscriptions', 'organizations_url': 'https://api.github.com/users/jnewland/orgs', 'repos_url': 'https://api.github.com/users/jnewland/repos', 'events_url': 'https://api.github.com/users/jnewland/events{/privacy}', 'received_events_url': 'https://api.github.com/users/jnewland/received_events', 'type': 'User', 'user_view_type': 'public', 'site_admin': False}, 'html_url': 'https://github.com/jnewland/gsa-prototype', 'description': 'Prototype/Javascript wrapper for the Google Search Appliance Search Protocol. Fancy cross-domain JSON support included.', 'fork': False, 'url': 'https://api.github.com/repos/jnewland/gsa-prototype', 'forks_url': 'https://api.github.com/repos/jnewland/gsa-prototype/forks', 'keys_url': 'https://api.github.com/repos/jnewland/gsa-prototype/keys{/key_id}', 'collaborators_url': 'https://api.github.com/repos/jnewland/gsa-prototype/collaborators{/collaborator}', 'teams_url': 'https://api.github.com/repos/jnewland/gsa-prototype/teams', 'hooks_url': 'https://api.github.com/repos/jnewland/gsa-prototype/hooks', 'issue_events_url': 'https://api.github.com/repos/jnewland/gsa-prototype/issues/events{/number}', 'events_url': 'https://api.github.com/repos/jnewland/gsa-prototype/events', 'assignees_url': 'https://api.github.com/repos/jnewland/gsa-prototype/assignees{/user}', 'branches_url': 'https://api.github.com/repos/jnewland/gsa-prototype/branches{/branch}', 'tags_url': 'https://api.github.com/repos/jnewland/gsa-prototype/tags', 'blobs_url': 'https://api.github.com/repos/jnewland/gsa-prototype/git/blobs{/sha}', 'git_tags_url': 'https://api.github.com/repos/jnewland/gsa-prototype/git/tags{/sha}', 'git_refs_url': 'https://api.github.com/repos/jnewland/gsa-prototype/git/refs{/sha}', 'trees_url': 'https://api.github.com/repos/jnewland/gsa-prototype/git/trees{/sha}', 'statuses_url': 'https://api.github.com/repos/jnewland/gsa-prototype/statuses/{sha}', 'languages_url': 'https://api.github.com/repos/jnewland/gsa-prototype/languages', 'stargazers_url': 'https://api.github.com/repos/jnewland/gsa-prototype/stargazers', 'contributors_url': 'https://api.github.com/repos/jnewland/gsa-prototype/contributors', 'subscribers_url': 'https://api.github.com/repos/jnewland/gsa-prototype/subscribers', 'subscription_url': 'https://api.github.com/repos/jnewland/gsa-prototype/subscription', 'commits_url': 'https://api.github.com/repos/jnewland/gsa-prototype/commits{/sha}', 'git_commits_url': 'https://api.github.com/repos/jnewland/gsa-prototype/git/commits{/sha}', 'comments_url': 'https://api.github.com/repos/jnewland/gsa-prototype/comments{/number}', 'issue_comment_url': 'https://api.github.com/repos/jnewland/gsa-prototype/issues/comments{/number}', 'contents_url': 'https://api.github.com/repos/jnewland/gsa-prototype/contents/{+path}', 'compare_url': 'https://api.github.com/repos/jnewland/gsa-prototype/compare/{base}...{head}', 'merges_url': 'https://api.github.com/repos/jnewland/gsa-prototype/merges', 'archive_url': 'https://api.github.com/repos/jnewland/gsa-prototype/{archive_format}{/ref}', 'downloads_url': 'https://api.github.com/repos/jnewland/gsa-prototype/downloads', 'issues_url': 'https://api.github.com/repos/jnewland/gsa-prototype/issues{/number}', 'pulls_url': 'https://api.github.com/repos/jnewland/gsa-prototype/pulls{/number}', 'milestones_url': 'https://api.github.com/repos/jnewland/gsa-prototype/milestones{/number}', 'notifications_url': 'https://api.github.com/repos/jnewland/gsa-prototype/notifications{?since,all,participating}', 'labels_url': 'https://api.github.com/repos/jnewland/gsa-prototype/labels{/name}', 'releases_url': 'https://api.github.com/repos/jnewland/gsa-prototype/releases{/id}', 'deployments_url': 'https://api.github.com/repos/jnewland/gsa-prototype/deployments'}\n"
          ]
        }
      ],
      "source": [
        "commits_url = f\"{GH_ROOT}/repositories\"\n",
        "all_commits = pagination_repositories(commits_url, headers)\n",
        "print(f\"Total commits extracted: {len(all_commits)}\")\n",
        "print(\"Sample commit:\", all_commits[0] if all_commits else \"No commits found.\")"
      ]
    },
    {
      "cell_type": "code",
      "execution_count": null,
      "metadata": {
        "id": "yGwdefQv0hRf"
      },
      "outputs": [],
      "source": []
    }
  ],
  "metadata": {
    "colab": {
      "provenance": []
    },
    "kernelspec": {
      "display_name": "Python 3",
      "name": "python3"
    },
    "language_info": {
      "name": "python"
    }
  },
  "nbformat": 4,
  "nbformat_minor": 0
}
